{
 "cells": [
  {
   "cell_type": "markdown",
   "metadata": {},
   "source": [
    "# Crop and Swap\n",
    "\n",
    "### 🔅 Task 35.2\n",
    "### 📌 Take 2 images, crop some part of both the images and swap them."
   ]
  },
  {
   "cell_type": "markdown",
   "metadata": {},
   "source": [
    "Step 1: import modules and load both images"
   ]
  },
  {
   "cell_type": "code",
   "execution_count": 1,
   "metadata": {},
   "outputs": [],
   "source": [
    "import cv2\n",
    "import numpy\n",
    "jack = cv2.imread(\"jack.jpg\")\n",
    "eric = cv2.imread(\"eric.jpg\")"
   ]
  },
  {
   "cell_type": "markdown",
   "metadata": {},
   "source": [
    "Step 2: Display Both images"
   ]
  },
  {
   "cell_type": "code",
   "execution_count": 3,
   "metadata": {},
   "outputs": [],
   "source": [
    "# Display Jack's image \n",
    "cv2.imshow(\"jack_intial\" , jack)\n",
    "\n",
    "# Display Eric's image\n",
    "cv2.imshow(\"eric_initial\" , eric)\n",
    "\n",
    "cv2.waitKey()\n",
    "cv2.destroyAllWindows()"
   ]
  },
  {
   "cell_type": "markdown",
   "metadata": {},
   "source": [
    "Step 3: Crop and Display Jack's Tie and find dimension of cropped part "
   ]
  },
  {
   "cell_type": "code",
   "execution_count": 4,
   "metadata": {},
   "outputs": [],
   "source": [
    "tie = jack[77:125 , 68:85]\n",
    "tie.shape\n",
    "\n",
    "# to crop jack's face \n",
    "# face1 = jack[5:75 , 30:120]\n",
    "\n",
    "cv2.imshow(\"tie\",tie)\n",
    "cv2.waitKey()\n",
    "cv2.destroyAllWindows()"
   ]
  },
  {
   "cell_type": "markdown",
   "metadata": {},
   "source": [
    "Step 4: Crop Eric's face and find dimension of cropped part"
   ]
  },
  {
   "cell_type": "code",
   "execution_count": 5,
   "metadata": {},
   "outputs": [],
   "source": [
    "face = eric[0:70 , 20:110]\n",
    "face.shape\n",
    "\n",
    "# to crop body \n",
    "# body2 = eric[67:, 10:122] \n",
    "\n",
    "cv2.imshow(\"face\", face)\n",
    "cv2.waitKey()\n",
    "cv2.destroyAllWindows()"
   ]
  },
  {
   "cell_type": "markdown",
   "metadata": {},
   "source": [
    "Step 5: Swapping the cropped part"
   ]
  },
  {
   "cell_type": "code",
   "execution_count": null,
   "metadata": {},
   "outputs": [],
   "source": [
    "# place eric's face on jack img\n",
    "jack[5:75 , 30:120] = face\n",
    "\n",
    "# place jack's tie on eric img\n",
    "eric[70:118 , 55:72] = tie\n",
    "\n",
    "# Display Jack's new image \n",
    "cv2.imshow(\"jack_new\" , jack)\n",
    "\n",
    "# Display Eric's new image\n",
    "cv2.imshow(\"eric_new\" , eric)\n",
    "\n",
    "cv2.waitKey()\n",
    "cv2.destroyAllWindows()\n",
    "\n"
   ]
  },
  {
   "cell_type": "code",
   "execution_count": null,
   "metadata": {},
   "outputs": [],
   "source": []
  }
 ],
 "metadata": {
  "kernelspec": {
   "display_name": "Python 3",
   "language": "python",
   "name": "python3"
  },
  "language_info": {
   "codemirror_mode": {
    "name": "ipython",
    "version": 3
   },
   "file_extension": ".py",
   "mimetype": "text/x-python",
   "name": "python",
   "nbconvert_exporter": "python",
   "pygments_lexer": "ipython3",
   "version": "3.8.3"
  }
 },
 "nbformat": 4,
 "nbformat_minor": 4
}
