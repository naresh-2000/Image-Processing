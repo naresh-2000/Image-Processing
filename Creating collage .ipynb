{
 "cells": [
  {
   "cell_type": "markdown",
   "metadata": {},
   "source": [
    "# 🔅 Task 35.3\n",
    "### 📌 Take 2 images and combine it to form a single image. For example, collage"
   ]
  },
  {
   "cell_type": "markdown",
   "metadata": {},
   "source": [
    "Step 1: Import cv2 modules and numpy"
   ]
  },
  {
   "cell_type": "code",
   "execution_count": 1,
   "metadata": {},
   "outputs": [],
   "source": [
    "import cv2\n",
    "import numpy"
   ]
  },
  {
   "cell_type": "markdown",
   "metadata": {},
   "source": [
    "Step 2: Read / load the image"
   ]
  },
  {
   "cell_type": "code",
   "execution_count": 10,
   "metadata": {},
   "outputs": [],
   "source": [
    "nun = cv2.imread(\"crop.jpg\")\n",
    "\n",
    "# to confirm you can see the image using imshow() \n",
    "cv2.imshow(\"nun image\" , nun)\n",
    "cv2.waitKey()\n",
    "cv2.destroyAllWindows()"
   ]
  },
  {
   "cell_type": "markdown",
   "metadata": {},
   "source": [
    "Step 3: Crop the above image into two equal half\n",
    "\n",
    "These are the required 2 images produced from 1 image"
   ]
  },
  {
   "cell_type": "code",
   "execution_count": 11,
   "metadata": {},
   "outputs": [],
   "source": [
    "nun1 = nun[: , 1:153]\n",
    "nun2 = nun[: , 159:311]\n",
    "\n",
    "# to confirm you can see the image using imshow() \n",
    "cv2.imshow(\"1st half part\" , nun1)\n",
    "cv2.imshow(\"2nd half part\" ,nun2)\n",
    "cv2.waitKey()\n",
    "cv2.destroyAllWindows()"
   ]
  },
  {
   "cell_type": "markdown",
   "metadata": {},
   "source": [
    "Step 4: Now crop the above images (for sake of understanding let's crop them into equal parts)"
   ]
  },
  {
   "cell_type": "code",
   "execution_count": 12,
   "metadata": {},
   "outputs": [],
   "source": [
    "crop_part1 = nun[:, 1:77]\n",
    "crop_part2 = nun[:, 77:153]\n",
    "crop_part3 = nun[:, 159:235]\n",
    "crop_part4 = nun[:, 235:311]\n",
    "\n",
    "# to confirm you can see the image using imshow()\n",
    "cv2.imshow(\"1st part\" , crop_part1)\n",
    "cv2.imshow(\"2nd part\" ,crop_part2)\n",
    "cv2.imshow(\"3rd part\" , crop_part3)\n",
    "cv2.imshow(\"4th part\" , crop_part4)\n",
    "cv2.waitKey()\n",
    "cv2.destroyAllWindows()"
   ]
  },
  {
   "cell_type": "markdown",
   "metadata": {},
   "source": [
    "Step 5: Inter change the croped part to form a new image as collage \n",
    "\n",
    "\n",
    "\n",
    "\n",
    "\n",
    "\n",
    "\n",
    "\n",
    "\n",
    "\n",
    "\n",
    "\n",
    "\n"
   ]
  },
  {
   "cell_type": "code",
   "execution_count": 8,
   "metadata": {},
   "outputs": [],
   "source": [
    "# Replace the first half with crop_part3\n",
    "nun[: , 1:77] = crop_part3\n",
    "\n",
    "collage = nun[: , 1:153]\n",
    "cv2.imshow(\"final image\" , collage)\n",
    "cv2.waitKey()\n",
    "cv2.destroyAllWindows()"
   ]
  }
 ],
 "metadata": {
  "kernelspec": {
   "display_name": "Python 3",
   "language": "python",
   "name": "python3"
  },
  "language_info": {
   "codemirror_mode": {
    "name": "ipython",
    "version": 3
   },
   "file_extension": ".py",
   "mimetype": "text/x-python",
   "name": "python",
   "nbconvert_exporter": "python",
   "pygments_lexer": "ipython3",
   "version": "3.8.3"
  }
 },
 "nbformat": 4,
 "nbformat_minor": 4
}
