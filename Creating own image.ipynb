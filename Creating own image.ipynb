{
 "cells": [
  {
   "cell_type": "markdown",
   "metadata": {},
   "source": [
    "# Creating your Own Image\n",
    "\n",
    "#### 🔅 Task 35.1\n",
    "#### 📌 Create image by yourself Using Python Code"
   ]
  },
  {
   "cell_type": "markdown",
   "metadata": {},
   "source": [
    "Step 1 :- Import numpy to create a 2D Array and cv2 module to display image "
   ]
  },
  {
   "cell_type": "code",
   "execution_count": 1,
   "metadata": {},
   "outputs": [],
   "source": [
    "import numpy as np\n",
    "import cv2"
   ]
  },
  {
   "cell_type": "markdown",
   "metadata": {},
   "source": [
    "Step 2:- initialise a Black image "
   ]
  },
  {
   "cell_type": "code",
   "execution_count": 3,
   "metadata": {},
   "outputs": [],
   "source": [
    "# np.zeros() will assign 0 to each positon in array\n",
    "# the dimension of array is 2D (250 rows X 200 columns)\n",
    "img = np.zeros((250,200))\n",
    "\n",
    "# to display the image \n",
    "cv2.imshow(\"initial\" , img)\n",
    "cv2.waitKey()\n",
    "cv2.destroyAllWindows()"
   ]
  },
  {
   "cell_type": "markdown",
   "metadata": {},
   "source": [
    "Step 3 :- create a binary image (color intensity 0 or 1)"
   ]
  },
  {
   "cell_type": "code",
   "execution_count": 4,
   "metadata": {},
   "outputs": [],
   "source": [
    "img[:, :15]=1\n",
    "img[:, 185:]=1\n",
    "img[10:65 , 60:110] = 1\n",
    "img[20:25,65:70] = 0\n",
    "img[20:25,100:105]= 0\n",
    "img[30:45 , 83:86]=0\n",
    "img[50:55 , 70:100]=0\n",
    "img[65:70 , 75:95]=1\n",
    "img[70:150 , 45:125]= 1\n",
    "img[80:140 , 55:115]=0\n",
    "img[148:150 , 45:125]=0\n",
    "j=1\n",
    "for i in range(150 ,250):\n",
    "    if j <= 30:\n",
    "        img[i , 45+j:125+j] = 1\n",
    "        j=j+1\n",
    "    else:\n",
    "        break\n",
    "img[i:245 , 75:85] = 1\n",
    "img[i:245 , 145:155]=1\n",
    "img[150:215 , 45:55]=1\n",
    "img[150:215 , 115:125]=1\n",
    "\n",
    "# to display the final image formed \n",
    "\n",
    "cv2.imshow(\"final\" , img)\n",
    "cv2.waitKey()\n",
    "cv2.destroyAllWindows()"
   ]
  }
 ],
 "metadata": {
  "kernelspec": {
   "display_name": "Python 3",
   "language": "python",
   "name": "python3"
  },
  "language_info": {
   "codemirror_mode": {
    "name": "ipython",
    "version": 3
   },
   "file_extension": ".py",
   "mimetype": "text/x-python",
   "name": "python",
   "nbconvert_exporter": "python",
   "pygments_lexer": "ipython3",
   "version": "3.8.3"
  }
 },
 "nbformat": 4,
 "nbformat_minor": 4
}
